{
 "cells": [
  {
   "cell_type": "code",
   "execution_count": 1,
   "metadata": {},
   "outputs": [],
   "source": [
    "import pandas as pd\n",
    "import numpy as np"
   ]
  },
  {
   "cell_type": "code",
   "execution_count": 2,
   "metadata": {},
   "outputs": [
    {
     "name": "stderr",
     "output_type": "stream",
     "text": [
      "/Users/zhaoxuanyi/anaconda3/lib/python3.7/site-packages/IPython/core/interactiveshell.py:3049: DtypeWarning: Columns (61,62,94,95) have mixed types. Specify dtype option on import or set low_memory=False.\n",
      "  interactivity=interactivity, compiler=compiler, result=result)\n"
     ]
    }
   ],
   "source": [
    "df = pd.read_csv('listings.csv')\n",
    "useful_df = df[['id', 'name','zipcode','host_id','host_is_superhost', 'host_response_time', 'host_response_rate', 'latitude', \n",
    "                'longitude','host_since','property_type', 'room_type', 'neighbourhood', 'neighbourhood_group_cleansed', 'accommodates', 'bathrooms', 'bedrooms', \n",
    "                'beds', 'amenities', 'price', 'number_of_reviews', 'cancellation_policy','picture_url','host_url']]\n"
   ]
  },
  {
   "cell_type": "code",
   "execution_count": 3,
   "metadata": {},
   "outputs": [],
   "source": [
    "def nullify(x):\n",
    "    if x == '{}':\n",
    "        return np.nan\n",
    "    else:\n",
    "        return x"
   ]
  },
  {
   "cell_type": "code",
   "execution_count": 4,
   "metadata": {},
   "outputs": [],
   "source": [
    "useful_df = useful_df.applymap(nullify)\n",
    "clean_df = useful_df.dropna(axis = 0).reset_index(drop = True)"
   ]
  },
  {
   "cell_type": "code",
   "execution_count": 5,
   "metadata": {},
   "outputs": [],
   "source": [
    "examples, features = clean_df.shape"
   ]
  },
  {
   "cell_type": "code",
   "execution_count": 6,
   "metadata": {},
   "outputs": [],
   "source": [
    "# Drop the % symbol in the column of host_response_rate and change the data type to numerical\n",
    "clean_response_rate = []\n",
    "for i in range(examples):\n",
    "    old_item = clean_df['host_response_rate'][i]\n",
    "    clean_response_rate.append(float(old_item.rstrip('%')))\n",
    "\n",
    "clean_df['host_response_rate'] = clean_response_rate"
   ]
  },
  {
   "cell_type": "code",
   "execution_count": 7,
   "metadata": {},
   "outputs": [],
   "source": [
    "# Drop the $ symbol in the column of price and change the data type to numerical\n",
    "clean_price = []\n",
    "for i in range(examples):\n",
    "    old_item = clean_df['price'][i]\n",
    "    old_item = old_item.replace(',', '')\n",
    "    clean_price.append(float(old_item.lstrip('$')))\n",
    "\n",
    "clean_df['price'] = clean_price"
   ]
  },
  {
   "cell_type": "code",
   "execution_count": 8,
   "metadata": {},
   "outputs": [],
   "source": [
    "scores_df = df[['id', 'review_scores_rating']]"
   ]
  },
  {
   "cell_type": "code",
   "execution_count": 10,
   "metadata": {},
   "outputs": [],
   "source": [
    "add_scores_df = clean_df.merge(scores_df, on = 'id')"
   ]
  },
  {
   "cell_type": "code",
   "execution_count": null,
   "metadata": {},
   "outputs": [],
   "source": []
  },
  {
   "cell_type": "code",
   "execution_count": null,
   "metadata": {},
   "outputs": [],
   "source": []
  },
  {
   "cell_type": "code",
   "execution_count": null,
   "metadata": {},
   "outputs": [],
   "source": []
  },
  {
   "cell_type": "code",
   "execution_count": 8,
   "metadata": {},
   "outputs": [],
   "source": [
    "clean_df.to_csv('airbnb_listing.csv', sep='\\t')"
   ]
  },
  {
   "cell_type": "code",
   "execution_count": null,
   "metadata": {},
   "outputs": [],
   "source": []
  },
  {
   "cell_type": "code",
   "execution_count": 4,
   "metadata": {},
   "outputs": [],
   "source": [
    "review_df = pd.read_csv('reviews.csv')\n",
    "review_df = review_df.applymap(nullify)\n",
    "review_df = review_df.dropna(axis = 0).reset_index(drop = True)"
   ]
  },
  {
   "cell_type": "code",
   "execution_count": 10,
   "metadata": {},
   "outputs": [],
   "source": [
    "calendar_df = pd.read_csv('calendar.csv')\n",
    "calendar_df = calendar_df.applymap(nullify)\n",
    "calendar_df = calendar_df.dropna(axis = 0).reset_index(drop = True)\n",
    "row, col = calendar_df.shape"
   ]
  },
  {
   "cell_type": "code",
   "execution_count": 14,
   "metadata": {},
   "outputs": [],
   "source": [
    "# # Drop the $ symbol in the column of price and change the data type to numerical\n",
    "# clean_price = []\n",
    "# for i in range(row):\n",
    "#     old_item = calendar_df['price'][i]\n",
    "#     old_item = old_item.replace(',', '')\n",
    "#     clean_price.append(float(old_item.lstrip('$')))\n",
    "\n",
    "# calendar_df['price'] = clean_price"
   ]
  },
  {
   "cell_type": "code",
   "execution_count": 7,
   "metadata": {},
   "outputs": [],
   "source": [
    "review_df.to_csv('reviews_cleaned.csv', sep='\\t')"
   ]
  },
  {
   "cell_type": "code",
   "execution_count": null,
   "metadata": {},
   "outputs": [],
   "source": []
  },
  {
   "cell_type": "code",
   "execution_count": null,
   "metadata": {},
   "outputs": [],
   "source": []
  },
  {
   "cell_type": "code",
   "execution_count": null,
   "metadata": {},
   "outputs": [],
   "source": []
  }
 ],
 "metadata": {
  "kernelspec": {
   "display_name": "Python 3",
   "language": "python",
   "name": "python3"
  },
  "language_info": {
   "codemirror_mode": {
    "name": "ipython",
    "version": 3
   },
   "file_extension": ".py",
   "mimetype": "text/x-python",
   "name": "python",
   "nbconvert_exporter": "python",
   "pygments_lexer": "ipython3",
   "version": "3.7.3"
  }
 },
 "nbformat": 4,
 "nbformat_minor": 2
}
